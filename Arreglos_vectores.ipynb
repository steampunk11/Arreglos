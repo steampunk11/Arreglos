{
  "nbformat": 4,
  "nbformat_minor": 0,
  "metadata": {
    "colab": {
      "provenance": [],
      "authorship_tag": "ABX9TyMFupxzJesnxd3nb1yyZyHh",
      "include_colab_link": true
    },
    "kernelspec": {
      "name": "python3",
      "display_name": "Python 3"
    },
    "language_info": {
      "name": "python"
    }
  },
  "cells": [
    {
      "cell_type": "markdown",
      "metadata": {
        "id": "view-in-github",
        "colab_type": "text"
      },
      "source": [
        "<a href=\"https://colab.research.google.com/github/steampunk11/Arreglos/blob/main/Arreglos_vectores.ipynb\" target=\"_parent\"><img src=\"https://colab.research.google.com/assets/colab-badge.svg\" alt=\"Open In Colab\"/></a>"
      ]
    },
    {
      "cell_type": "code",
      "execution_count": null,
      "metadata": {
        "id": "N_Kwk1VqfpB4"
      },
      "outputs": [],
      "source": [
        "#ejemplos de arreglos\n",
        "#np es abreviatura de numpy\n",
        "\n",
        "import numpy as np\n",
        "np.array([1,2,3])\n",
        "vector = np.arange(20)\n",
        "vector1 = np.random.rand(1,20)\n",
        "print(f'de rango {vector}')\n",
        "print(f'se llena de numeros reales aleatoriamente {vector1}')\n",
        "vector2 = np.random.randint(1,100,10)\n",
        "print(f'llena en un rango de 1 hasta 11 en iteración de 100{vector2}')\n",
        "\n",
        "\n",
        "vector_suma = vector + vector1\n",
        "print(f'la suma de los vectores es {vector_suma}')\n",
        "vector_resta = vector - vector1\n",
        "print(f'la resta de los vectores es {vector_resta}')\n",
        "vector_multiplicacion = vector * vector1\n",
        "print(f'la multiplicacion de los vectores es {vector_multiplicacion}')\n",
        "vector_division = vector / vector1\n",
        "print(f'la division de los vectores es {vector_division}')"
      ]
    },
    {
      "cell_type": "markdown",
      "source": [],
      "metadata": {
        "id": "gKxSynXWgUh6"
      }
    }
  ]
}